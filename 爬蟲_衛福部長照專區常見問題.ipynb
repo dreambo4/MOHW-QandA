{
  "nbformat": 4,
  "nbformat_minor": 0,
  "metadata": {
    "colab": {
      "name": "爬蟲_衛福部長照專區常見問題.ipynb",
      "provenance": [],
      "toc_visible": true,
      "include_colab_link": true
    },
    "kernelspec": {
      "name": "python3",
      "display_name": "Python 3"
    }
  },
  "cells": [
    {
      "cell_type": "markdown",
      "metadata": {
        "id": "view-in-github",
        "colab_type": "text"
      },
      "source": [
        "<a href=\"https://colab.research.google.com/github/dreambo4/MOHW-QandA/blob/main/%E7%88%AC%E8%9F%B2_%E8%A1%9B%E7%A6%8F%E9%83%A8%E9%95%B7%E7%85%A7%E5%B0%88%E5%8D%80%E5%B8%B8%E8%A6%8B%E5%95%8F%E9%A1%8C.ipynb\" target=\"_parent\"><img src=\"https://colab.research.google.com/assets/colab-badge.svg\" alt=\"Open In Colab\"/></a>"
      ]
    },
    {
      "cell_type": "markdown",
      "metadata": {
        "id": "qfZAL7nwLXk5"
      },
      "source": [
        "https://1966.gov.tw/LTC/np-3972-201.html"
      ]
    },
    {
      "cell_type": "markdown",
      "metadata": {
        "id": "R2EgruHw4Emo"
      },
      "source": [
        "# Import Library"
      ]
    },
    {
      "cell_type": "code",
      "metadata": {
        "id": "zm9K8QtrLIlI"
      },
      "source": [
        "from bs4 import BeautifulSoup\n",
        "import requests\n",
        "import csv"
      ],
      "execution_count": null,
      "outputs": []
    },
    {
      "cell_type": "markdown",
      "metadata": {
        "id": "jew7F6Ga4MyY"
      },
      "source": [
        "# Fuctions"
      ]
    },
    {
      "cell_type": "markdown",
      "metadata": {
        "id": "Ew7hj-JJ4PoQ"
      },
      "source": [
        "## 取得網頁內容"
      ]
    },
    {
      "cell_type": "code",
      "metadata": {
        "id": "a15CHDAkL6il"
      },
      "source": [
        "def getContent(url):\n",
        "    response = requests.get(url)\n",
        "    soup = BeautifulSoup(response.text, \"html.parser\")\n",
        "    return soup "
      ],
      "execution_count": null,
      "outputs": []
    },
    {
      "cell_type": "markdown",
      "metadata": {
        "id": "JzVDyQ_M4YRo"
      },
      "source": [
        "## 取得下一頁的 URL"
      ]
    },
    {
      "cell_type": "code",
      "metadata": {
        "id": "YS5DKMtWOrF0"
      },
      "source": [
        "def getNextPage(htmlContent):\n",
        "    if htmlContent.find('a', class_=\"icon-angle-right\") is not None:\n",
        "        return htmlContent.find('a', class_=\"icon-angle-right\").get(\"href\")\n",
        "    else:\n",
        "        return False"
      ],
      "execution_count": null,
      "outputs": []
    },
    {
      "cell_type": "markdown",
      "metadata": {
        "id": "lje6WqCM4g85"
      },
      "source": [
        "## 取得回答"
      ]
    },
    {
      "cell_type": "code",
      "metadata": {
        "id": "vYQ1njuf28Na"
      },
      "source": [
        "def getAnswer(answerUrl):\n",
        "    answerSoup = getContent(answerUrl)\n",
        "    answer = answerSoup.find(\"div\", class_=\"user_edit\").find(\"p\")\n",
        "    return answer.get_text()"
      ],
      "execution_count": null,
      "outputs": []
    },
    {
      "cell_type": "markdown",
      "metadata": {
        "id": "Vl5jAL5Cyxyb"
      },
      "source": [
        "## 寫成  CSV  檔"
      ]
    },
    {
      "cell_type": "code",
      "metadata": {
        "id": "FYBZQ0LSaGYi"
      },
      "source": [
        "def writeCsv(filename, dataList):\n",
        "    with open(filename+'.csv', 'w', newline='') as csvfile:\n",
        "        # 定義欄位\n",
        "        fieldnames = ['q', 'a', 'url']\n",
        "\n",
        "        # 將 dictionary 寫入 CSV 檔\n",
        "        writer = csv.DictWriter(csvfile, fieldnames=fieldnames)\n",
        "\n",
        "        # 寫入第一列的欄位名稱\n",
        "        writer.writeheader()\n",
        "\n",
        "        # 寫入資料\n",
        "        for qa in dataList:\n",
        "            writer.writerow(qa)"
      ],
      "execution_count": null,
      "outputs": []
    },
    {
      "cell_type": "markdown",
      "metadata": {
        "id": "kWUGyLeI4pwJ"
      },
      "source": [
        "# 測試程式"
      ]
    },
    {
      "cell_type": "markdown",
      "metadata": {
        "id": "iflUDgcboKoX"
      },
      "source": [
        "## 抓取內容"
      ]
    },
    {
      "cell_type": "code",
      "metadata": {
        "id": "5HVN8_sugzMs"
      },
      "source": [
        "url = \"https://1966.gov.tw/LTC/lp-4641-201-2-20.html\""
      ],
      "execution_count": null,
      "outputs": []
    },
    {
      "cell_type": "code",
      "metadata": {
        "id": "3sPHMgz0noKP"
      },
      "source": [
        "soup = getContent(url)\n",
        "# print(soup.prettify())#輸出排版後的HTML內容"
      ],
      "execution_count": null,
      "outputs": []
    },
    {
      "cell_type": "markdown",
      "metadata": {
        "id": "1fOcghE2oQc3"
      },
      "source": [
        "## 解析 問題列表"
      ]
    },
    {
      "cell_type": "code",
      "metadata": {
        "id": "vBxiS7m2NHcI",
        "colab": {
          "base_uri": "https://localhost:8080/"
        },
        "outputId": "a7672c37-95f3-4c68-be51-1912e7eddc65"
      },
      "source": [
        "questions = soup.find(\"div\", class_=\"List\").find_all(\"a\")\n",
        "# print(questions)\n",
        "for q in questions:\n",
        "    print(q.get(\"href\"), end=\"\\t\")\n",
        "    print(q.get(\"title\"))"
      ],
      "execution_count": null,
      "outputs": [
        {
          "output_type": "stream",
          "text": [
            "https://1966.gov.tw/LTC/cp-4641-50983-201.html\t長期照顧特別扣除額度及訂定理由為何？\n",
            "https://1966.gov.tw/LTC/cp-4641-50985-201.html\t身心失能者是否一定要聘僱家庭看護或入住住宿式服務機構才能列報長期照顧特別扣除額？\n",
            "https://1966.gov.tw/LTC/cp-4641-50987-201.html\t入住何種住宿式機構得列報長期照顧特別扣除額？又排除安養床機構之理由為何？\n",
            "https://1966.gov.tw/LTC/cp-4641-50988-201.html\t長期照顧特別扣除額是否訂定排富規定？\n",
            "https://1966.gov.tw/LTC/cp-4641-50989-201.html\t榮譽國民之家(養護床)及榮總分院附設護理之家的公務預算補助身分住民是否可申請？\n",
            "https://1966.gov.tw/LTC/cp-4641-50990-201.html\t如何取得失能等級評估證明及申請長期照顧服務？\n",
            "https://1966.gov.tw/LTC/cp-4641-50991-201.html\t何謂入住住宿式服務機構收據應註記「床位類型」?\n",
            "https://1966.gov.tw/LTC/cp-4641-50992-201.html\t各榮總分院附設護理之家的住民如果沒有相關繳費收據時如何申請？\n",
            "https://1966.gov.tw/LTC/cp-4641-50993-201.html\t有關入住住宿式服務機構態樣(榮民之家養護床)全額補助、無繳費收據之住民，可否由輔導會提供核定函或其他證明文件？\n",
            "https://1966.gov.tw/LTC/cp-4641-51010-201.html\t符合審查標準第22條規定得聘僱外籍家庭看護工者包含哪些人?應檢具申報文件為何?\n",
            "https://1966.gov.tw/LTC/cp-4641-51011-201.html\t何謂可聘僱外籍家庭看護工之特定身障項目重度(或極重度)或鑑定向度?\n",
            "https://1966.gov.tw/LTC/cp-4641-51012-201.html\t因遺失聘僱(或接續聘僱)許可函申請補發，後續相關程序應如何辦理？\n",
            "https://1966.gov.tw/LTC/cp-4641-51013-201.html\t雇主檢附之解除委任關係契約書影本，有無固定格式範本或須注意事項？\n",
            "https://1966.gov.tw/LTC/cp-4641-51014-201.html\t雇主應如何申請補發許可函？\n",
            "https://1966.gov.tw/LTC/cp-4641-51015-201.html\t雇主申請補發許可函，是否需要繳交審查費？\n",
            "https://1966.gov.tw/LTC/cp-4641-51016-201.html\t聘僱(或接續聘僱)許可函申請補發需多久?\n",
            "https://1966.gov.tw/LTC/cp-4641-51017-201.html\t指定之醫療機構包含哪些?評估費用多少?\n"
          ],
          "name": "stdout"
        }
      ]
    },
    {
      "cell_type": "markdown",
      "metadata": {
        "id": "88vGWwXf3mf6"
      },
      "source": [
        "## 解析回答頁"
      ]
    },
    {
      "cell_type": "code",
      "metadata": {
        "id": "qow9OzFXgWT6",
        "colab": {
          "base_uri": "https://localhost:8080/"
        },
        "outputId": "ac2aef46-e836-45e6-d08a-8cb82eaa2574"
      },
      "source": [
        "answerUrl = \"https://1966.gov.tw/LTC/cp-4641-51011-201.html\"\n",
        "answerSoup = getContent(answerUrl)\n",
        "print(answerSoup.prettify)"
      ],
      "execution_count": null,
      "outputs": [
        {
          "output_type": "stream",
          "text": [
            "<bound method Tag.prettify of <!DOCTYPE html>\n",
            "<html class=\"no-js\" lang=\"zh-Hant-TW\" xmlns=\"http://www.w3.org/1999/xhtml\" xmlns:fb=\"http://www.facebook.com/2008/fbml\" xmlns:msxsl=\"urn:schemas-microsoft-com:xslt\" xmlns:og=\"http://ogp.me/ns#\" xmlns:user=\"urn:user-namespace-here\">\n",
            "<head>\n",
            "<meta content=\"website\" property=\"og:type\" xmlns=\"\"/>\n",
            "<meta content=\"\" property=\"og:title\" xmlns=\"\"/>\n",
            "<meta content=\"http://1966.gov.tw/LTC/cp-4641-51011-201.html\" property=\"og:url\" xmlns=\"\"/>\n",
            "<meta content=\"\" property=\"og:site_name\" xmlns=\"\"/>\n",
            "<meta content=\"\" property=\"og:image\" xmlns=\"\"/>\n",
            "<meta charset=\"utf-8\" xmlns=\"\"/>\n",
            "<meta content=\"IE=edge\" http-equiv=\"X-UA-Compatible\" xmlns=\"\"/>\n",
            "<meta content=\"width=device-width, initial-scale=1\" name=\"viewport\" xmlns=\"\"/>\n",
            "<link href=\"/xslGip/Unit201/images/favicon.ico\" rel=\"icon\" type=\"image/x-icon\" xmlns=\"\"/><meta content=\"何謂可聘僱外籍家庭看護工之特定身障項目重度(或極重度)或鑑定向度?\" name=\"DC.Title\"><meta content=\"何謂可聘僱外籍家庭看護工之特定身障項目重度(或極重度)或鑑定向度?\" name=\"DC.Subject\"><meta content=\"長期照顧司\" name=\"DC.Creator\"><meta content=\"長期照顧司\" name=\"DC.Publisher\"><meta content=\"2020-01-13\" name=\"DC.Date\"><meta content=\"A21000000I\" name=\"DC.Identifier\"><meta content=\"文字\" name=\"DC.Type\"><meta content=\"250\" name=\"Category.Theme\"><meta content=\"340\" name=\"Category.Cake\"/><meta content=\"450\" name=\"Category.Service\"/><meta content=\"依據「外國人從事就業服務法第四十六條第一項第八款至第十一款工作資格及審查標準」第22條第3項，\" name=\"DC.Description\"/><meta content=\"長期照顧司\" name=\"DC.Contributor\"/><meta content=\"Text\" name=\"DC.Format\"/><meta content=\"\" name=\"DC.Relation\"/><meta content=\"長期照顧司\" name=\"DC.Source\"/><meta content=\"中文\" name=\"DC.Language\"/><meta content=\"2020-01-13\" name=\"DC.coverage.t.min\"/><meta content=\"\" name=\"DC.coverage.t.max\"/><meta content=\"長期照顧司\" name=\"DC.Rights\"/><meta content=\"何謂可聘僱外籍家庭看護工之特定身障項目重度(或極重度)或鑑定向度?\" name=\"Keywords\"/><title xmlns=\"\">何謂可聘僱外籍家庭看護工之特定身障項目重度(或極重度)或鑑定向度?-\r\n",
            "            衛福部長照專區(1966專線)</title><script src=\"https://ajax.googleapis.com/ajax/libs/jquery/1.11.2/jquery.min.js\" xmlns=\"\"></script><script src=\"/js/pageservice.js\" xmlns=\"\"></script><link href=\"/xslGip/Unit201/assets/module/bootstrap-3.3.2/css/bootstrap.min.css\" rel=\"stylesheet\" xmlns=\"\"/>\n",
            "<link href=\"/xslGip/Unit201/assets/module/bootstrap-3.3.2/css/bootstrap-theme.min.css\" rel=\"stylesheet\" xmlns=\"\"/>\n",
            "<link href=\"/xslGip/Unit201/assets/module/slick/slick.css\" rel=\"stylesheet\" xmlns=\"\"/>\n",
            "<link href=\"/xslGip/Unit201/assets/module/slick/slick-theme.css\" rel=\"stylesheet\" xmlns=\"\"/>\n",
            "<link href=\"/xslGip/Unit201/assets/module/fontello/css/fontello.css\" rel=\"stylesheet\" xmlns=\"\"/>\n",
            "<link href=\"/xslGip/Unit201/assets/css/bootstrap.offcanvas.css\" rel=\"stylesheet\" xmlns=\"\"/>\n",
            "<link href=\"/xslGip/Unit201/css/design.css\" rel=\"stylesheet\" xmlns=\"\"/>\n",
            "</meta></meta></meta></meta></meta></meta></meta></meta></head>\n",
            "<body><section id=\"Header\" xmlns=\"\"><div class=\"accesskey hidden-xs\"><a accesskey=\"U\" href=\"#\" id=\"accesskeyU\" title=\"header\">:::</a></div><nav class=\"navbar\" role=\"navigation\"><div class=\"container\">\n",
            "<div class=\"row\">\n",
            "<div class=\"navbar-header\"><button class=\"navbar-toggle pull-left\" data-target=\"#offcanvas-left\" data-toggle=\"collapse\" type=\"button\"><span class=\"sr-only\">Toggle navigation</span><i class=\"icon-menu\"></i></button><h1><a class=\"Logo\" href=\"\n",
            "                    mp-201.html\n",
            "                  \" title=\"衛福部長照專區(1966專線)\"><img alt=\"衛福部長照專區(1966專線)\" class=\"img-responsive\" src=\"https://www.mohw.gov.tw/Public/Images/201905/8111905271639bffa4.png\"/></a></h1><button class=\"navbar-toggle pull-right\" data-target=\"#offcanvas-right\" data-toggle=\"collapse\" type=\"button\"><span class=\"sr-only\">Toggle navigation</span><i class=\"icon-down-open\"></i></button></div>\n",
            "<div class=\"collapse navbar-collapse\" id=\"offcanvas-right\" role=\"navigation\">\n",
            "<div class=\"Navigation\"><a accesskey=\"U\" class=\"accesskey\" href=\"#au\" id=\"au\" tabindex=\"2\" title=\"導覽列\">:::</a><ul class=\"nav navbar-nav\">\n",
            "<li><a href=\"http://1966.gov.tw/LTC\" tabindex=\"3\" title=\"回專區首頁\">回專區首頁</a></li>\n",
            "<li><a href=\"https://www.mohw.gov.tw/mp-1.html\" tabindex=\"4\" title=\"回衛生福利部首頁\">回衛生福利部首頁</a></li>\n",
            "<li><a href=\"https://1966.gov.tw/LTC/cp-3645-38372-201.html\" tabindex=\"5\" title=\"網站導覽\">網站導覽</a></li>\n",
            "<li><a href=\"https://mohwservice.mohw.gov.tw/SWSFRONT35/SWSF/SWSF01014.aspx?Cul=5c4986f9118172149c0a61bf7dc6b491\" rel=\"noopener noreferrer\" tabindex=\"6\" target=\"_blank\" title=\"部長信箱(另開新視窗)\">部長信箱</a></li>\n",
            "</ul>\n",
            "</div>\n",
            "<div class=\"Search\">\n",
            "<div class=\"accesskey hidden-xs\"><a accesskey=\"S\" href=\"#\" title=\"站內搜尋\">:::</a></div>\n",
            "<form class=\"navbar-form\" id=\"SearchForm\" role=\"search\">\n",
            "<div class=\"input-group\"><input class=\"form-control\" id=\"GSearch\" name=\"GSearch\" placeholder=\"全站搜尋\" type=\"text\"/><span class=\"input-group-btn\"><button class=\"btn\" id=\"GSearchSend\" type=\"button\"><span class=\"search_icon\"></span></button><a class=\"btn advance\" href=\"https://www.google.com.tw/advanced_search?hl=zh-TW&amp;as_q=&amp;num=100&amp;as_sitesearch=www.mohw.gov.tw&amp;cof=FORID%3A10&amp;ie=UTF-8&amp;sa=%E6%90%9C%E5%B0%8B&amp;siteurl=www\" title=\"進階查詢\">進階查詢</a></span></div>\n",
            "</form><script type=\"text/javascript\">\n",
            "\t\t\t  $(\"#SearchForm\").show();\n",
            "\t\t\t  $(function(){\n",
            "\t\t\t    $('#GSearch').on('keypress', function (e) {\n",
            "\t\t\t\t  var code = (e.keyCode ? e.keyCode : e.which);\n",
            "\t\t\t\t  if (code == 13) {\n",
            "\t\t\t\t    SearchAction();\n",
            "\t\t\t\t  }\n",
            "\t\t\t    });\n",
            "\t\t\t    $( \"#GSearchSend\").bind( \"click keypress\", function() {\n",
            "\t\t\t\t  SearchAction();\n",
            "\t\t\t    });\n",
            "\t\t\t  });\n",
            "\t\t\t  function SearchAction(){\n",
            "\t\t\t    var Query='';\n",
            "\t\t\t    if($.trim($('#GSearch').val()) != ''){\n",
            "\t\t\t\t  Query='sp-LTCGS-201.html?Query='+encodeURI($('#GSearch').val());\n",
            "\t\t\t    }\n",
            "\t\t\t    else{\n",
            "\t\t\t\t  Query='sp-LTCGS-201.html';\n",
            "\t\t\t    }\n",
            "\t\t\t    window.open(Query);\n",
            "\t\t\t  }\n",
            "\t\t\t</script><noscript>您的瀏覽器不支援javascript<br/>請點選<u><a accesskey=\"S\" href=\"https://www.google.com.tw/advanced_search?hl=zh-TW&amp;as_q=&amp;num=100&amp;as_sitesearch=www.mohw.gov.tw&amp;cof=FORID%3A10&amp;ie=UTF-8&amp;sa=%E6%90%9C%E5%B0%8B&amp;siteurl=www\" id=\"aS\" target=\"_blank\" title=\"全站搜尋(另開新視窗)\">全站搜尋</a></u>來使用網站搜尋功能。</noscript></div>\n",
            "</div>\n",
            "</div>\n",
            "<div class=\"collapse navbar-collapse\" id=\"offcanvas-left\" role=\"navigation\">\n",
            "<div class=\"MainMenu\">\n",
            "<ul class=\"nav navbar-nav\">\n",
            "<li class=\"dropdown\"><a aria-expanded=\"false\" class=\"active dropdown-toggle\" data-hover=\"dropdown\" href=\"np-3978-201.html\" title=\"政策總覽\">政策總覽</a></li>\n",
            "<li class=\"dropdown\"><a aria-expanded=\"false\" class=\"active dropdown-toggle\" data-hover=\"dropdown\" href=\"lp-4108-201.html\" title=\"最新消息\">最新消息</a></li>\n",
            "<li class=\"dropdown\"><a aria-expanded=\"false\" class=\"active dropdown-toggle\" data-hover=\"dropdown\" href=\"np-4002-201.html\" title=\"長照2.0\">長照2.0</a></li>\n",
            "<li class=\"dropdown\"><a aria-expanded=\"false\" class=\"active dropdown-toggle\" data-hover=\"dropdown\" href=\"np-3982-201.html\" title=\"長照法規\">長照法規</a></li>\n",
            "<li class=\"dropdown\"><a aria-expanded=\"false\" class=\"active dropdown-toggle\" data-hover=\"dropdown\" href=\"np-3639-201.html\" title=\"溝通宣導資源\">溝通宣導資源<b class=\"caret\"></b></a><ul class=\"dropdown-menu\">\n",
            "<li><a href=\"lp-3650-201.html\" title=\"影片類\">影片類</a></li>\n",
            "<li><a href=\"lp-3651-201.html\" title=\"活動類\">活動類</a></li>\n",
            "<li><a href=\"lp-3780-201.html\" title=\"廣播類\">廣播類</a></li>\n",
            "<li><a href=\"lp-3648-201.html\" title=\"平面文宣類\">平面文宣類</a></li>\n",
            "<li><a href=\"lp-3649-201.html\" title=\"長照服務相關標章類(Logo)\">長照服務相關標章類(Logo)</a></li>\n",
            "<li><a href=\"lp-4282-201.html\" title=\"長照服務提供者資訊化作業推廣計畫\">長照服務提供者資訊化作業推廣計畫</a></li>\n",
            "<li><a href=\"np-4940-201.html\" title=\"衛生教育主軸宣導民意調查連結\">衛生教育主軸宣導民意調查連結</a></li>\n",
            "</ul>\n",
            "</li>\n",
            "<li class=\"dropdown\"><a aria-expanded=\"false\" class=\"active dropdown-toggle\" data-hover=\"dropdown\" href=\"lp-3948-201.html\" title=\"資訊公開\">資訊公開</a></li>\n",
            "<li class=\"dropdown\"><a aria-expanded=\"false\" class=\"active dropdown-toggle\" data-hover=\"dropdown\" href=\"np-3972-201.html\" title=\"常見問題\">常見問題</a></li>\n",
            "<li class=\"dropdown\"><a aria-expanded=\"false\" class=\"active dropdown-toggle\" data-hover=\"dropdown\" href=\"np-4737-201.html\" title=\"嚴重特殊傳染性肺炎專區\">嚴重特殊傳染性肺炎專區</a></li>\n",
            "</ul>\n",
            "</div>\n",
            "</div>\n",
            "</div></nav></section><section class=\"mainContent\" xmlns=\"\"><div class=\"container\">\n",
            "<div class=\"breadcrumb\"><a href=\"\n",
            "          mp-201.html\n",
            "        \" title=\"首頁\">\r\n",
            "        首頁\r\n",
            "      </a><a href=\"\n",
            "            np-3972-201.html\n",
            "          \" title=\"常見問題\">常見問題</a><a href=\"\n",
            "            np-4641-201.html\n",
            "          \" title=\"長期照顧特別扣除額\">長期照顧特別扣除額</a></div>\n",
            "<div class=\"function pull-right\"><script src=\"/xslGip/Unit201/js/LTCLikeCounter.js\"></script><input id=\"HIDDataID\" type=\"hidden\" value=\"51011\"/><a class=\"good\" id=\"LikeLink\" onclick=\"OnClickLike();\"><img alt=\"like\" src=\"/xslGip/Unit201/images/good.png\"/><span id=\"LITLike\"></span>個讚\r\n",
            "          </a><script type=\"text/javascript\">\n",
            "      function FBShare(link) {\n",
            "      window.open(\"http://www.facebook.com/sharer.php?u=\" + encodeURIComponent(link) + \"&t=\" + encodeURIComponent(document.title) ,'FBLIKE',config='height=500,width=500');\n",
            "      }\n",
            "      function TwitterShare(link) {\n",
            "      window.open(\"https://twitter.com/home?status=\" + encodeURIComponent(link) ,'Twitter',config='height=500,width=500');\n",
            "      }\n",
            "      function LineShare(link) {\n",
            "      window.open(\"http://line.naver.jp/R/msg/text/\" + encodeURIComponent(document.title) + \" :: \" + encodeURIComponent(link) ,'Line',config='height=500,width=500');\n",
            "      }\n",
            "    </script><a class=\"btn icon-facebook\" href=\"\n",
            "        javascript:FBShare('http://1966.gov.tw/LTC/cp-4641-51011-201.html')\n",
            "      \" title=\"facebook(另開新視窗)\"></a><a class=\"btn icon-twitter\" href=\"\n",
            "        javascript:TwitterShare('http://1966.gov.tw/LTC/cp-4641-51011-201.html')\n",
            "      \" title=\"twitter(另開新視窗)\"></a><a class=\"btn icon-line\" href=\"\n",
            "        javascript:LineShare('http://1966.gov.tw/LTC/cp-4641-51011-201.html')\n",
            "      \" title=\"line(另開新視窗)\"></a><a class=\"btn icon-reply-1\" href=\"javascript:history.back();\">回上一頁</a></div>\n",
            "<h2>何謂可聘僱外籍家庭看護工之特定身障項目重度(或極重度)或鑑定向度?</h2>\n",
            "<div class=\"date\"><span><i class=\"icon-calendar-2\"></i>建檔日期：109-01-13</span><span><i class=\"icon-calendar-2\"></i>更新時間：109-01-13</span></div>\n",
            "<div class=\"cp user_edit\">\n",
            "<p><p>依據「外國人從事就業服務法第四十六條第一項第八款至第十一款工作資格及審查標準」第22條第3項，特定身心障礙項目包含平衡機能障礙、智能障礙、植物人、失智症、自閉症、染色體異常、先天代謝異常、其他先天缺陷、精神病、肢體障礙（限運動神經元或巴金森氏症等二類疾病。但曾聘僱外籍家庭看護工者，不在此限。）、罕見疾病（限運動神經元疾病。但曾聘僱外籍家庭看護工者，不在此限。）、多重障礙（至少具有前十一項身心障礙項目之一），共12項。鑑定向度則請參照勞動部公告：<a href=\"https://reurl.cc/W4zY25\">https://reurl.cc/W4zY25</a>。</p>\n",
            "<p>資料來源：勞動部</p></p>\n",
            "</div>\n",
            "</div></section><!-- FATFOOTER -->\n",
            "<section class=\"FatFooter\"><button class=\"btn btn-fatfooter\" name=\"收合\" type=\"button\">收合</button>\n",
            "<nav>\n",
            "<ul>\n",
            "<li><a href=\"#\">最新消息</a>\n",
            "<ul>\n",
            "<li><a href=\"lp-3641-201.html\">新聞</a></li>\n",
            "<li><a href=\"lp-3642-201.html\">活動</a></li>\n",
            "<li><a href=\"lp-3643-201.html\">成果</a></li>\n",
            "</ul>\n",
            "</li>\n",
            "<li><a href=\"#\">長照2.0</a>\n",
            "<ul>\n",
            "<li><a href=\"https://1966.gov.tw/LTC/cp-3636-42415-201.html\">長照十年計畫2.0</a></li>\n",
            "<li><a href=\"https://1966.gov.tw/LTC/lp-3979-201.html\">行政院長照推動小組</a></li>\n",
            "<li><a href=\"https://1966.gov.tw/LTC/lp-3980-201.html\">衛生福利部長期照顧諮詢會 </a></li>\n",
            "</ul>\n",
            "</li>\n",
            "<li><a href=\"#\">政策法規</a>\n",
            "<ul>\n",
            "<li><a href=\"https://1966.gov.tw/LTC/cp-3635-42393-201.html\">政策總覽</a></li>\n",
            "<li><a href=\"https://1966.gov.tw/LTC/cp-3637-42407-201.html\">長照法規</a></li>\n",
            "<li><a href=\"https://1966.gov.tw/LTC/lp-3981-201.html\">長照相關計畫</a></li>\n",
            "</ul>\n",
            "</li>\n",
            "<li><a href=\"#\">宣導</a>\n",
            "<ul>\n",
            "<li><a href=\"np-3639-201.html\">宣導資源</a></li>\n",
            "<li><a href=\"https://1966.gov.tw/LTC/np-3972-201.html\">常見問題</a></li>\n",
            "<li><a href=\"lp-3650-201.html\">影音類</a></li>\n",
            "<!--<li><a href=\"#\">照片</a></li>-->\n",
            "<li><a href=\"lp-3651-201.html\">活動類</a></li>\n",
            "<!--<li><a href=\"#\">連結</a></li>-->\n",
            "</ul>\n",
            "</li>\n",
            "<li><a href=\"#\">長照服務地圖</a>\n",
            "<ul>\n",
            "<li><a href=\"https://ltcpap.mohw.gov.tw/public/index.html\" target=\"_blank\" title=\"快速尋找附近的長照服務(另開新視窗)\">快速尋找附近的長照服務</a></li>\n",
            "<!--<li><a href=\"https://ltcpap.mohw.gov.tw/molcPublic\" target=\"_blank\" title=\"詳細了解附近的長照服務(另開新視窗)\">詳細了解附近的長照服務</a></li>-->\n",
            "<li><a href=\"https://ltcpap.mohw.gov.tw/molc/map\" target=\"_blank\" title=\"瞭解長照資源分佈(另開新視窗)\">瞭解長照資源分佈</a></li>\n",
            "</ul>\n",
            "</li>\n",
            "</ul>\n",
            "</nav>\n",
            "</section><footer xmlns=\"\"><div class=\"container\">\n",
            "<div class=\"row\"><div class=\"footer_left\"><!--<img alt=\"\" class=\"img-responsive\" src=\"xslGip/Unit099/images/footer_logo.png\" />-->\n",
            "<p>衛生福利部地址：115204 台北市南港區忠孝東路6段488號 <br/>\r\n",
            "總機電話：(02)8590-6666<br/>\r\n",
            "Copyright©2017 衛生福利部版權所有 | 建議最佳解析度為1024*768或以上</p>\n",
            "<!--<img alt=\"\" class=\"img-responsive\" src=\"xslGip/Unit099/images/footer_logo.png\" />-->\n",
            "<ul class=\"Link-list\">\n",
            "<li><a href=\"https://1966.gov.tw/LTC/cp-3646-38414-201.html\" title=\"資訊安全與隱私權政策\">資訊安全與隱私權政策</a></li>\n",
            "<li><a href=\"https://1966.gov.tw/LTC/cp-3646-38415-201.html\" title=\"政府網站資料開放宣告\">政府網站資料開放宣告</a></li>\n",
            "</ul>\n",
            "</div>\n",
            "<div class=\"footer_right\">\n",
            "<div class=\"Footer_icon\"><a class=\"icon icon-facebook\" href=\"https://www.facebook.com/mohw.gov.tw/\" target=\"_blank\" title=\"facebook(另開新視窗)\"><span style=\"display:none\">FB</span></a> <a class=\"icon icon-line\" href=\"https://www.mohw.gov.tw/cp-81-37724-1.html\" target=\"_blank\" title=\"Line(另開新視窗)\"> <span style=\"display:none\">Line</span></a> <a class=\"icon icon-twitter\" href=\"https://twitter.com/MOHW_Taiwan\" target=\"_blank\" title=\"twitter(另開新視窗)\"><span style=\"display:none\">Twitter</span></a> <a class=\"icon icon-youtube\" href=\"https://www.youtube.com/watch?v=hxgI7g-cl4Q\" target=\"_blank\" title=\"YouTube(另開新視窗)\"><span style=\"display:none\">YouTube</span></a> <!--<a href=\"http://dep.mohw.gov.tw/DOSI/np-267-102.html\" target=\"_blank\"><img alt=\"長照政策歷史專區\" src=\"/Public/Images/201711/9811711101433ec6af.jpg\" /></a>--></div>\n",
            "</div>\n",
            "<!-- Global Site Tag (gtag.js) - Google Analytics --><script async=\"\" src=\"https://www.googletagmanager.com/gtag/js?id=UA-42655323-7\"></script><script>\r\n",
            "  window.dataLayer = window.dataLayer || [];\r\n",
            "  function gtag(){dataLayer.push(arguments);}\r\n",
            "  gtag('js', new Date());\r\n",
            "\r\n",
            "  gtag('config', 'UA-42655323-7');\r\n",
            "</script></div>\n",
            "</div></footer><a class=\"scrollToTop\" href=\"#\" xmlns=\"\"></a><script src=\"/xslGip/Unit201/assets/js/jquery-1.11.2.js\" xmlns=\"\"></script><script src=\"/xslGip/Unit201/assets/module/bootstrap-3.3.2/js/bootstrap.min.js\" xmlns=\"\"></script><script src=\"/xslGip/Unit201/assets/js/jquery.lazyload.min.js\" xmlns=\"\"></script><script src=\"/xslGip/Unit201/js/BS3JS.min.js\" xmlns=\"\"></script><script src=\"/xslGip/Unit201/assets/module/slick/slick.js\" xmlns=\"\"></script><script src=\"/xslGip/Unit201/assets/js/bootstrap.offcanvas.js\" xmlns=\"\"></script><script src=\"/xslGip/Unit201/assets/js/jquery.scrollUp.js\" xmlns=\"\"></script><script src=\"/xslGip/Unit201/assets/js/jquery.easing.1.3.js\" xmlns=\"\"></script><script src=\"/xslGip/Unit201/js/wow.min.js\" xmlns=\"\"></script><script xmlns=\"\">\n",
            "\t\t\tnew WOW().init();\n",
            "\t\t</script><script src=\"/xslGip/Unit201/js/customize_scripts.js\" xmlns=\"\"></script></body>\n",
            "</html>>\n"
          ],
          "name": "stdout"
        }
      ]
    },
    {
      "cell_type": "code",
      "metadata": {
        "id": "KfWKR0OTt2Tm",
        "colab": {
          "base_uri": "https://localhost:8080/"
        },
        "outputId": "359e8287-80e1-4606-bd6d-bab9e0259e05"
      },
      "source": [
        "answer = answerSoup.find(\"div\", class_=\"user_edit\").find(\"p\")\n",
        "print(answer)\n",
        "print(answer.get_text())"
      ],
      "execution_count": null,
      "outputs": [
        {
          "output_type": "stream",
          "text": [
            "<p><p>依據「外國人從事就業服務法第四十六條第一項第八款至第十一款工作資格及審查標準」第22條第3項，特定身心障礙項目包含平衡機能障礙、智能障礙、植物人、失智症、自閉症、染色體異常、先天代謝異常、其他先天缺陷、精神病、肢體障礙（限運動神經元或巴金森氏症等二類疾病。但曾聘僱外籍家庭看護工者，不在此限。）、罕見疾病（限運動神經元疾病。但曾聘僱外籍家庭看護工者，不在此限。）、多重障礙（至少具有前十一項身心障礙項目之一），共12項。鑑定向度則請參照勞動部公告：<a href=\"https://reurl.cc/W4zY25\">https://reurl.cc/W4zY25</a>。</p>\n",
            "<p>資料來源：勞動部</p></p>\n",
            "依據「外國人從事就業服務法第四十六條第一項第八款至第十一款工作資格及審查標準」第22條第3項，特定身心障礙項目包含平衡機能障礙、智能障礙、植物人、失智症、自閉症、染色體異常、先天代謝異常、其他先天缺陷、精神病、肢體障礙（限運動神經元或巴金森氏症等二類疾病。但曾聘僱外籍家庭看護工者，不在此限。）、罕見疾病（限運動神經元疾病。但曾聘僱外籍家庭看護工者，不在此限。）、多重障礙（至少具有前十一項身心障礙項目之一），共12項。鑑定向度則請參照勞動部公告：https://reurl.cc/W4zY25。\n",
            "資料來源：勞動部\n"
          ],
          "name": "stdout"
        }
      ]
    },
    {
      "cell_type": "markdown",
      "metadata": {
        "id": "Bk1DTQVd34MZ"
      },
      "source": [
        "# Main"
      ]
    },
    {
      "cell_type": "code",
      "metadata": {
        "id": "gRSrlOaJoUPP",
        "colab": {
          "base_uri": "https://localhost:8080/"
        },
        "outputId": "8d72e511-889d-4744-e591-00f9a3d6e6d2"
      },
      "source": [
        "baseUrl = \"https://1966.gov.tw/LTC/\"\n",
        "url = baseUrl + \"lp-3977-201.html\"\n",
        "# i = 1\n",
        "qaList = []\n",
        "while True:\n",
        "    soup = getContent(url)\n",
        "    questions = soup.find(\"div\", class_=\"List\").find_all(\"a\")\n",
        "    \n",
        "    for q in questions:\n",
        "        qa = {}\n",
        "        answerUrl = q.get(\"href\")\n",
        "        # print(i, end=\"\\t\")\n",
        "        # i += 1\n",
        "        # print(answerUrl, end=\"\\t\")\n",
        "        # print(q.get(\"title\"), end=\"\\t\")\n",
        "        # print(getAnswer(answerUrl))\n",
        "        qa['url'] = answerUrl\n",
        "        qa['q'] = q.get(\"title\")\n",
        "        qa['a'] = getAnswer(answerUrl)\n",
        "        print(qa)\n",
        "        qaList.append(qa)\n",
        "    nextPageUrl = getNextPage(soup)\n",
        "    if nextPageUrl is False:\n",
        "        break\n",
        "    url = baseUrl + nextPageUrl"
      ],
      "execution_count": null,
      "outputs": [
        {
          "output_type": "stream",
          "text": [
            "{'url': 'https://1966.gov.tw/LTC/cp-3977-42249-201.html', 'q': '台灣的失智症長照服務資源量能？', 'a': '一、為因應我國快速增加的老年及失智人口，延緩及減輕失智症對社會及家庭的衝擊，並提供失智症及其家庭所需的醫療及照護需求，本部於102年8月公布「失智症防治照護政策網領」，訂定兩大目標及七大面向，以作為我國失智症照護發展方向。並結合跨部會機關依據政策綱領七大面向提出行動方案32項，並依各工作項目之效益指標達成目標，以完善失智症照護防治體系。\\n二、為提升失智症社區服務普及性，擴增失智症長照服務量能，已推動措施如下：\\n(一)97年起失智者已納入長照十年計畫，失智症長者可經一般失能之基本日常生活活動能力(ADL)或臨床失智評估量表（CDR）評估，判定失能或失智程度，核定補助時數，按老人之需求，提供失智老人適切長照服務。長照服務個案中失智症患者約占9.7%，截至104年5月底，提供失智症長照服務個案約1萬5千多人。\\n(二)完善社區照護網絡-多元、在地服務及家庭照顧者：\\n1.已完成185個多元日照服務單位(日照中心159個、日托據點26個)，預計105年完成「一鄉鎮一日照」。\\r\\n2.失智專責服務：已設置日間照顧服務(17縣市共25處)、老人團體家屋(10個單位/83床) 、瑞智學堂(19縣市/60處)、失智症社區服務據點（28據點）、有失智症專區之機構 (41家，計1,317床；另規劃中7家239床)。\\r\\n3.建構家庭照顧者服務支持網絡：已設置失智症諮詢關懷專線，針對長照十年個案高風險家庭提供諮詢服務（1,141人/年)；提供家庭照顧者照顧訓練（908/場；17,137人次/年），及建立失智症互助家庭（2,451人次)。\\n(三)充足長照服務人力：已完成醫事長照專業三個階段培訓課程並展開訓練，至104年8月已訓練約30,000人次；又為讓在地人照顧在地人，擴大培養在地長照人力，100-104年8月止約訓練3200人次。\\n(四) 提升民眾對失智症防治及照護的認知：\\n1.全民教育：拍攝紀錄片如「被遺忘的時光」、「昨日的記憶」、憶起愛相隨」、「照顧者心情故事-居家服務」、製作失智症衛教手冊、認識失智症單張；辦理學校、職場宣導講座等進行教育宣導。\\r\\n2.社區健康促進網絡如結合社區關懷據點（1,978個) 辦理老人健康促進活動（6,359場；超過10萬人)。\\r\\n3.建構高齡友善機構及城市方面：通過認證機構，醫院有105家、長照機構有3家及1家衛生所；並於22縣市全面推動高齡友善城市，讓 280萬之長者受惠。\\n三、未來規劃：\\n(一) 104年5月已完成長期照顧服務法立法，可依法設置長照基金，發展服務及人力資源。\\r\\n(二) 整合原有之長照十年計畫與長照服務網基礎，推動長期照顧服務量能提升計畫。'}\n",
            "{'url': 'https://1966.gov.tw/LTC/cp-3977-42248-201.html', 'q': '「高齡政策白皮書」與「人口白皮書」，這兩者的關係為何？何者應優先適用？', 'a': '(一) 人口政策白皮書所關注的人口議題包含了少子女化、高齡化、移民，高齡社會白皮書主要針對高齡者及未來高齡社會提出四大願景與相關具體行動措施。雖兩者皆有針對高齡化提出相關對策，但為因應人口老化迅速、家庭與生活型態改變與社會價值變遷的挑戰，我國必須針對當今社會之高齡多元需求，同時參考國際經驗與趨勢，必須即早提出更前瞻且整體性的政策規劃，以滿足我國高齡者能夠享有健康生活、幸福家庭、活力社會與友善環境，達到延長國人健康年數、減少失能老年人口的目標，並且整體提升高齡者生活幸福感。\\r\\n\\xa0(二) 人口政策白皮書與高齡社會白皮書兩者並無衝突與適用之優先順序，高齡社會白皮書亦有融合人口政策白皮書之理念，並特別針對未來高齡人口需求延伸提出高齡政策之前瞻性架構與規劃，以共同實踐政府政策之願景。'}\n",
            "{'url': 'https://1966.gov.tw/LTC/cp-3977-42245-201.html', 'q': '長照基金獎助之申請程序？', 'a': '1.本部長照十年計畫2.0-106年度補助計畫，106年部分，本部社家署已於106年1月12日以衛授家字第1060800004號函送本部「106年度運用社會福利基金辦理長照十年計畫2.0補助項目及基準」，將補助案件分為主軸計畫、整合型計畫及專案計畫等三類，可依該三類之補助項目、基準、作業程序辦理。\\r\\n2.107年（含）以後及非屬上開長照十年計畫2.0-106年度補助計畫經費之申請程序與相關作業規範，本部將另訂長照基金獎助作業要點。'}\n",
            "{'url': 'https://1966.gov.tw/LTC/cp-3977-42244-201.html', 'q': '有關長照服務資源不足地區的定義，建議重新檢討及訂定檢討年限？', 'a': '1.現行長照服務資源不足地區，係依本部99年及103年辦理長照服務資源盤點所規劃之長照服務網區域劃分。\\r\\n2.本辦法第三條已明定「至少每五年辦理長照服務資源供需之調查」。\\r\\n3.將依前項辦理之調查結果，定期檢討長照服務資源不足地區之定義。'}\n"
          ],
          "name": "stdout"
        }
      ]
    },
    {
      "cell_type": "markdown",
      "metadata": {
        "id": "P7wESB4T1HEm"
      },
      "source": [
        "## 印出 list 與 寫檔"
      ]
    },
    {
      "cell_type": "code",
      "metadata": {
        "id": "Gqmf6gKM5_zU",
        "colab": {
          "base_uri": "https://localhost:8080/"
        },
        "outputId": "5d33a61c-52d5-45df-d716-289312bdcafb"
      },
      "source": [
        "print(qaList)\n",
        "writeCsv('其他', qaList)"
      ],
      "execution_count": null,
      "outputs": [
        {
          "output_type": "stream",
          "text": [
            "[{'url': 'https://1966.gov.tw/LTC/cp-3977-42249-201.html', 'q': '台灣的失智症長照服務資源量能？', 'a': '一、為因應我國快速增加的老年及失智人口，延緩及減輕失智症對社會及家庭的衝擊，並提供失智症及其家庭所需的醫療及照護需求，本部於102年8月公布「失智症防治照護政策網領」，訂定兩大目標及七大面向，以作為我國失智症照護發展方向。並結合跨部會機關依據政策綱領七大面向提出行動方案32項，並依各工作項目之效益指標達成目標，以完善失智症照護防治體系。\\n二、為提升失智症社區服務普及性，擴增失智症長照服務量能，已推動措施如下：\\n(一)97年起失智者已納入長照十年計畫，失智症長者可經一般失能之基本日常生活活動能力(ADL)或臨床失智評估量表（CDR）評估，判定失能或失智程度，核定補助時數，按老人之需求，提供失智老人適切長照服務。長照服務個案中失智症患者約占9.7%，截至104年5月底，提供失智症長照服務個案約1萬5千多人。\\n(二)完善社區照護網絡-多元、在地服務及家庭照顧者：\\n1.已完成185個多元日照服務單位(日照中心159個、日托據點26個)，預計105年完成「一鄉鎮一日照」。\\r\\n2.失智專責服務：已設置日間照顧服務(17縣市共25處)、老人團體家屋(10個單位/83床) 、瑞智學堂(19縣市/60處)、失智症社區服務據點（28據點）、有失智症專區之機構 (41家，計1,317床；另規劃中7家239床)。\\r\\n3.建構家庭照顧者服務支持網絡：已設置失智症諮詢關懷專線，針對長照十年個案高風險家庭提供諮詢服務（1,141人/年)；提供家庭照顧者照顧訓練（908/場；17,137人次/年），及建立失智症互助家庭（2,451人次)。\\n(三)充足長照服務人力：已完成醫事長照專業三個階段培訓課程並展開訓練，至104年8月已訓練約30,000人次；又為讓在地人照顧在地人，擴大培養在地長照人力，100-104年8月止約訓練3200人次。\\n(四) 提升民眾對失智症防治及照護的認知：\\n1.全民教育：拍攝紀錄片如「被遺忘的時光」、「昨日的記憶」、憶起愛相隨」、「照顧者心情故事-居家服務」、製作失智症衛教手冊、認識失智症單張；辦理學校、職場宣導講座等進行教育宣導。\\r\\n2.社區健康促進網絡如結合社區關懷據點（1,978個) 辦理老人健康促進活動（6,359場；超過10萬人)。\\r\\n3.建構高齡友善機構及城市方面：通過認證機構，醫院有105家、長照機構有3家及1家衛生所；並於22縣市全面推動高齡友善城市，讓 280萬之長者受惠。\\n三、未來規劃：\\n(一) 104年5月已完成長期照顧服務法立法，可依法設置長照基金，發展服務及人力資源。\\r\\n(二) 整合原有之長照十年計畫與長照服務網基礎，推動長期照顧服務量能提升計畫。'}, {'url': 'https://1966.gov.tw/LTC/cp-3977-42248-201.html', 'q': '「高齡政策白皮書」與「人口白皮書」，這兩者的關係為何？何者應優先適用？', 'a': '(一) 人口政策白皮書所關注的人口議題包含了少子女化、高齡化、移民，高齡社會白皮書主要針對高齡者及未來高齡社會提出四大願景與相關具體行動措施。雖兩者皆有針對高齡化提出相關對策，但為因應人口老化迅速、家庭與生活型態改變與社會價值變遷的挑戰，我國必須針對當今社會之高齡多元需求，同時參考國際經驗與趨勢，必須即早提出更前瞻且整體性的政策規劃，以滿足我國高齡者能夠享有健康生活、幸福家庭、活力社會與友善環境，達到延長國人健康年數、減少失能老年人口的目標，並且整體提升高齡者生活幸福感。\\r\\n\\xa0(二) 人口政策白皮書與高齡社會白皮書兩者並無衝突與適用之優先順序，高齡社會白皮書亦有融合人口政策白皮書之理念，並特別針對未來高齡人口需求延伸提出高齡政策之前瞻性架構與規劃，以共同實踐政府政策之願景。'}, {'url': 'https://1966.gov.tw/LTC/cp-3977-42245-201.html', 'q': '長照基金獎助之申請程序？', 'a': '1.本部長照十年計畫2.0-106年度補助計畫，106年部分，本部社家署已於106年1月12日以衛授家字第1060800004號函送本部「106年度運用社會福利基金辦理長照十年計畫2.0補助項目及基準」，將補助案件分為主軸計畫、整合型計畫及專案計畫等三類，可依該三類之補助項目、基準、作業程序辦理。\\r\\n2.107年（含）以後及非屬上開長照十年計畫2.0-106年度補助計畫經費之申請程序與相關作業規範，本部將另訂長照基金獎助作業要點。'}, {'url': 'https://1966.gov.tw/LTC/cp-3977-42244-201.html', 'q': '有關長照服務資源不足地區的定義，建議重新檢討及訂定檢討年限？', 'a': '1.現行長照服務資源不足地區，係依本部99年及103年辦理長照服務資源盤點所規劃之長照服務網區域劃分。\\r\\n2.本辦法第三條已明定「至少每五年辦理長照服務資源供需之調查」。\\r\\n3.將依前項辦理之調查結果，定期檢討長照服務資源不足地區之定義。'}]\n"
          ],
          "name": "stdout"
        }
      ]
    },
    {
      "cell_type": "code",
      "metadata": {
        "id": "V61yC0HtW2ic"
      },
      "source": [
        ""
      ],
      "execution_count": null,
      "outputs": []
    }
  ]
}